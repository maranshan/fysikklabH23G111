{
 "cells": [
  {
   "cell_type": "code",
   "execution_count": 8,
   "metadata": {},
   "outputs": [
    {
     "ename": "AttributeError",
     "evalue": "partially initialized module 'pandas' has no attribute '_pandas_parser_CAPI' (most likely due to a circular import)",
     "output_type": "error",
     "traceback": [
      "\u001b[1;31m---------------------------------------------------------------------------\u001b[0m",
      "\u001b[1;31mAttributeError\u001b[0m                            Traceback (most recent call last)",
      "\u001b[1;32mc:\\Users\\bjoer\\OneDrive\\Skrivebord\\fysikklabH23G111\\fysikklabH23G111\\eksperiment.ipynb Cell 1\u001b[0m line \u001b[0;36m3\n\u001b[0;32m      <a href='vscode-notebook-cell:/c%3A/Users/bjoer/OneDrive/Skrivebord/fysikklabH23G111/fysikklabH23G111/eksperiment.ipynb#W0sZmlsZQ%3D%3D?line=0'>1</a>\u001b[0m \u001b[39mimport\u001b[39;00m \u001b[39mmatplotlib\u001b[39;00m\u001b[39m.\u001b[39;00m\u001b[39mpyplot\u001b[39;00m \u001b[39mas\u001b[39;00m \u001b[39mplt\u001b[39;00m\n\u001b[0;32m      <a href='vscode-notebook-cell:/c%3A/Users/bjoer/OneDrive/Skrivebord/fysikklabH23G111/fysikklabH23G111/eksperiment.ipynb#W0sZmlsZQ%3D%3D?line=1'>2</a>\u001b[0m \u001b[39mimport\u001b[39;00m \u001b[39mnumpy\u001b[39;00m \u001b[39mas\u001b[39;00m \u001b[39mnp\u001b[39;00m\n\u001b[1;32m----> <a href='vscode-notebook-cell:/c%3A/Users/bjoer/OneDrive/Skrivebord/fysikklabH23G111/fysikklabH23G111/eksperiment.ipynb#W0sZmlsZQ%3D%3D?line=2'>3</a>\u001b[0m \u001b[39mimport\u001b[39;00m \u001b[39mpandas\u001b[39;00m \u001b[39mas\u001b[39;00m \u001b[39mpd\u001b[39;00m\n\u001b[0;32m      <a href='vscode-notebook-cell:/c%3A/Users/bjoer/OneDrive/Skrivebord/fysikklabH23G111/fysikklabH23G111/eksperiment.ipynb#W0sZmlsZQ%3D%3D?line=4'>5</a>\u001b[0m data \u001b[39m=\u001b[39m pd\u001b[39m.\u001b[39mread_csv(\u001b[39m\"\u001b[39m\u001b[39mdata.txt\u001b[39m\u001b[39m\"\u001b[39m, sep \u001b[39m=\u001b[39m \u001b[39m\"\u001b[39m\u001b[39m \u001b[39m\u001b[39m\"\u001b[39m)\n\u001b[0;32m      <a href='vscode-notebook-cell:/c%3A/Users/bjoer/OneDrive/Skrivebord/fysikklabH23G111/fysikklabH23G111/eksperiment.ipynb#W0sZmlsZQ%3D%3D?line=5'>6</a>\u001b[0m xdata \u001b[39m=\u001b[39m data[\u001b[39m\"\u001b[39m\u001b[39mx\u001b[39m\u001b[39m\"\u001b[39m]\n",
      "File \u001b[1;32mc:\\Users\\bjoer\\AppData\\Local\\Programs\\Python\\Python311\\Lib\\site-packages\\pandas\\__init__.py:148\u001b[0m\n\u001b[0;32m    129\u001b[0m \u001b[39mfrom\u001b[39;00m \u001b[39mpandas\u001b[39;00m\u001b[39m.\u001b[39;00m\u001b[39mcore\u001b[39;00m\u001b[39m.\u001b[39;00m\u001b[39mcomputation\u001b[39;00m\u001b[39m.\u001b[39;00m\u001b[39mapi\u001b[39;00m \u001b[39mimport\u001b[39;00m \u001b[39meval\u001b[39m\n\u001b[0;32m    131\u001b[0m \u001b[39mfrom\u001b[39;00m \u001b[39mpandas\u001b[39;00m\u001b[39m.\u001b[39;00m\u001b[39mcore\u001b[39;00m\u001b[39m.\u001b[39;00m\u001b[39mreshape\u001b[39;00m\u001b[39m.\u001b[39;00m\u001b[39mapi\u001b[39;00m \u001b[39mimport\u001b[39;00m (\n\u001b[0;32m    132\u001b[0m     concat,\n\u001b[0;32m    133\u001b[0m     lreshape,\n\u001b[1;32m   (...)\u001b[0m\n\u001b[0;32m    145\u001b[0m     qcut,\n\u001b[0;32m    146\u001b[0m )\n\u001b[1;32m--> 148\u001b[0m \u001b[39mfrom\u001b[39;00m \u001b[39mpandas\u001b[39;00m \u001b[39mimport\u001b[39;00m api, arrays, errors, io, plotting, tseries\n\u001b[0;32m    149\u001b[0m \u001b[39mfrom\u001b[39;00m \u001b[39mpandas\u001b[39;00m \u001b[39mimport\u001b[39;00m testing\n\u001b[0;32m    150\u001b[0m \u001b[39mfrom\u001b[39;00m \u001b[39mpandas\u001b[39;00m\u001b[39m.\u001b[39;00m\u001b[39mutil\u001b[39;00m\u001b[39m.\u001b[39;00m\u001b[39m_print_versions\u001b[39;00m \u001b[39mimport\u001b[39;00m show_versions\n",
      "File \u001b[1;32mc:\\Users\\bjoer\\AppData\\Local\\Programs\\Python\\Python311\\Lib\\site-packages\\pandas\\api\\__init__.py:2\u001b[0m\n\u001b[0;32m      1\u001b[0m \u001b[39m\"\"\" public toolkit API \"\"\"\u001b[39;00m\n\u001b[1;32m----> 2\u001b[0m \u001b[39mfrom\u001b[39;00m \u001b[39mpandas\u001b[39;00m\u001b[39m.\u001b[39;00m\u001b[39mapi\u001b[39;00m \u001b[39mimport\u001b[39;00m (\n\u001b[0;32m      3\u001b[0m     extensions,\n\u001b[0;32m      4\u001b[0m     indexers,\n\u001b[0;32m      5\u001b[0m     interchange,\n\u001b[0;32m      6\u001b[0m     types,\n\u001b[0;32m      7\u001b[0m     typing,\n\u001b[0;32m      8\u001b[0m )\n\u001b[0;32m     10\u001b[0m __all__ \u001b[39m=\u001b[39m [\n\u001b[0;32m     11\u001b[0m     \u001b[39m\"\u001b[39m\u001b[39minterchange\u001b[39m\u001b[39m\"\u001b[39m,\n\u001b[0;32m     12\u001b[0m     \u001b[39m\"\u001b[39m\u001b[39mextensions\u001b[39m\u001b[39m\"\u001b[39m,\n\u001b[1;32m   (...)\u001b[0m\n\u001b[0;32m     15\u001b[0m     \u001b[39m\"\u001b[39m\u001b[39mtyping\u001b[39m\u001b[39m\"\u001b[39m,\n\u001b[0;32m     16\u001b[0m ]\n",
      "File \u001b[1;32mc:\\Users\\bjoer\\AppData\\Local\\Programs\\Python\\Python311\\Lib\\site-packages\\pandas\\api\\typing\\__init__.py:31\u001b[0m\n\u001b[0;32m     19\u001b[0m \u001b[39mfrom\u001b[39;00m \u001b[39mpandas\u001b[39;00m\u001b[39m.\u001b[39;00m\u001b[39mcore\u001b[39;00m\u001b[39m.\u001b[39;00m\u001b[39mwindow\u001b[39;00m \u001b[39mimport\u001b[39;00m (\n\u001b[0;32m     20\u001b[0m     Expanding,\n\u001b[0;32m     21\u001b[0m     ExpandingGroupby,\n\u001b[1;32m   (...)\u001b[0m\n\u001b[0;32m     26\u001b[0m     Window,\n\u001b[0;32m     27\u001b[0m )\n\u001b[0;32m     29\u001b[0m \u001b[39m# TODO: Can't import Styler without importing jinja2\u001b[39;00m\n\u001b[0;32m     30\u001b[0m \u001b[39m# from pandas.io.formats.style import Styler\u001b[39;00m\n\u001b[1;32m---> 31\u001b[0m \u001b[39mfrom\u001b[39;00m \u001b[39mpandas\u001b[39;00m\u001b[39m.\u001b[39;00m\u001b[39mio\u001b[39;00m\u001b[39m.\u001b[39;00m\u001b[39mjson\u001b[39;00m\u001b[39m.\u001b[39;00m\u001b[39m_json\u001b[39;00m \u001b[39mimport\u001b[39;00m JsonReader\n\u001b[0;32m     32\u001b[0m \u001b[39mfrom\u001b[39;00m \u001b[39mpandas\u001b[39;00m\u001b[39m.\u001b[39;00m\u001b[39mio\u001b[39;00m\u001b[39m.\u001b[39;00m\u001b[39mstata\u001b[39;00m \u001b[39mimport\u001b[39;00m StataReader\n\u001b[0;32m     34\u001b[0m __all__ \u001b[39m=\u001b[39m [\n\u001b[0;32m     35\u001b[0m     \u001b[39m\"\u001b[39m\u001b[39mDataFrameGroupBy\u001b[39m\u001b[39m\"\u001b[39m,\n\u001b[0;32m     36\u001b[0m     \u001b[39m\"\u001b[39m\u001b[39mDatetimeIndexResamplerGroupby\u001b[39m\u001b[39m\"\u001b[39m,\n\u001b[1;32m   (...)\u001b[0m\n\u001b[0;32m     54\u001b[0m     \u001b[39m\"\u001b[39m\u001b[39mWindow\u001b[39m\u001b[39m\"\u001b[39m,\n\u001b[0;32m     55\u001b[0m ]\n",
      "File \u001b[1;32mc:\\Users\\bjoer\\AppData\\Local\\Programs\\Python\\Python311\\Lib\\site-packages\\pandas\\io\\json\\__init__.py:1\u001b[0m\n\u001b[1;32m----> 1\u001b[0m \u001b[39mfrom\u001b[39;00m \u001b[39mpandas\u001b[39;00m\u001b[39m.\u001b[39;00m\u001b[39mio\u001b[39;00m\u001b[39m.\u001b[39;00m\u001b[39mjson\u001b[39;00m\u001b[39m.\u001b[39;00m\u001b[39m_json\u001b[39;00m \u001b[39mimport\u001b[39;00m (\n\u001b[0;32m      2\u001b[0m     read_json,\n\u001b[0;32m      3\u001b[0m     to_json,\n\u001b[0;32m      4\u001b[0m     ujson_dumps \u001b[39mas\u001b[39;00m dumps,\n\u001b[0;32m      5\u001b[0m     ujson_loads \u001b[39mas\u001b[39;00m loads,\n\u001b[0;32m      6\u001b[0m )\n\u001b[0;32m      7\u001b[0m \u001b[39mfrom\u001b[39;00m \u001b[39mpandas\u001b[39;00m\u001b[39m.\u001b[39;00m\u001b[39mio\u001b[39;00m\u001b[39m.\u001b[39;00m\u001b[39mjson\u001b[39;00m\u001b[39m.\u001b[39;00m\u001b[39m_table_schema\u001b[39;00m \u001b[39mimport\u001b[39;00m build_table_schema\n\u001b[0;32m      9\u001b[0m __all__ \u001b[39m=\u001b[39m [\n\u001b[0;32m     10\u001b[0m     \u001b[39m\"\u001b[39m\u001b[39mdumps\u001b[39m\u001b[39m\"\u001b[39m,\n\u001b[0;32m     11\u001b[0m     \u001b[39m\"\u001b[39m\u001b[39mloads\u001b[39m\u001b[39m\"\u001b[39m,\n\u001b[1;32m   (...)\u001b[0m\n\u001b[0;32m     14\u001b[0m     \u001b[39m\"\u001b[39m\u001b[39mbuild_table_schema\u001b[39m\u001b[39m\"\u001b[39m,\n\u001b[0;32m     15\u001b[0m ]\n",
      "File \u001b[1;32mc:\\Users\\bjoer\\AppData\\Local\\Programs\\Python\\Python311\\Lib\\site-packages\\pandas\\io\\json\\_json.py:67\u001b[0m\n\u001b[0;32m     62\u001b[0m \u001b[39mfrom\u001b[39;00m \u001b[39mpandas\u001b[39;00m\u001b[39m.\u001b[39;00m\u001b[39mio\u001b[39;00m\u001b[39m.\u001b[39;00m\u001b[39mjson\u001b[39;00m\u001b[39m.\u001b[39;00m\u001b[39m_normalize\u001b[39;00m \u001b[39mimport\u001b[39;00m convert_to_line_delimits\n\u001b[0;32m     63\u001b[0m \u001b[39mfrom\u001b[39;00m \u001b[39mpandas\u001b[39;00m\u001b[39m.\u001b[39;00m\u001b[39mio\u001b[39;00m\u001b[39m.\u001b[39;00m\u001b[39mjson\u001b[39;00m\u001b[39m.\u001b[39;00m\u001b[39m_table_schema\u001b[39;00m \u001b[39mimport\u001b[39;00m (\n\u001b[0;32m     64\u001b[0m     build_table_schema,\n\u001b[0;32m     65\u001b[0m     parse_table_schema,\n\u001b[0;32m     66\u001b[0m )\n\u001b[1;32m---> 67\u001b[0m \u001b[39mfrom\u001b[39;00m \u001b[39mpandas\u001b[39;00m\u001b[39m.\u001b[39;00m\u001b[39mio\u001b[39;00m\u001b[39m.\u001b[39;00m\u001b[39mparsers\u001b[39;00m\u001b[39m.\u001b[39;00m\u001b[39mreaders\u001b[39;00m \u001b[39mimport\u001b[39;00m validate_integer\n\u001b[0;32m     69\u001b[0m \u001b[39mif\u001b[39;00m TYPE_CHECKING:\n\u001b[0;32m     70\u001b[0m     \u001b[39mfrom\u001b[39;00m \u001b[39mcollections\u001b[39;00m\u001b[39m.\u001b[39;00m\u001b[39mabc\u001b[39;00m \u001b[39mimport\u001b[39;00m (\n\u001b[0;32m     71\u001b[0m         Hashable,\n\u001b[0;32m     72\u001b[0m         Mapping,\n\u001b[0;32m     73\u001b[0m     )\n",
      "File \u001b[1;32mc:\\Users\\bjoer\\AppData\\Local\\Programs\\Python\\Python311\\Lib\\site-packages\\pandas\\io\\parsers\\__init__.py:1\u001b[0m\n\u001b[1;32m----> 1\u001b[0m \u001b[39mfrom\u001b[39;00m \u001b[39mpandas\u001b[39;00m\u001b[39m.\u001b[39;00m\u001b[39mio\u001b[39;00m\u001b[39m.\u001b[39;00m\u001b[39mparsers\u001b[39;00m\u001b[39m.\u001b[39;00m\u001b[39mreaders\u001b[39;00m \u001b[39mimport\u001b[39;00m (\n\u001b[0;32m      2\u001b[0m     TextFileReader,\n\u001b[0;32m      3\u001b[0m     TextParser,\n\u001b[0;32m      4\u001b[0m     read_csv,\n\u001b[0;32m      5\u001b[0m     read_fwf,\n\u001b[0;32m      6\u001b[0m     read_table,\n\u001b[0;32m      7\u001b[0m )\n\u001b[0;32m      9\u001b[0m __all__ \u001b[39m=\u001b[39m [\u001b[39m\"\u001b[39m\u001b[39mTextFileReader\u001b[39m\u001b[39m\"\u001b[39m, \u001b[39m\"\u001b[39m\u001b[39mTextParser\u001b[39m\u001b[39m\"\u001b[39m, \u001b[39m\"\u001b[39m\u001b[39mread_csv\u001b[39m\u001b[39m\"\u001b[39m, \u001b[39m\"\u001b[39m\u001b[39mread_fwf\u001b[39m\u001b[39m\"\u001b[39m, \u001b[39m\"\u001b[39m\u001b[39mread_table\u001b[39m\u001b[39m\"\u001b[39m]\n",
      "File \u001b[1;32mc:\\Users\\bjoer\\AppData\\Local\\Programs\\Python\\Python311\\Lib\\site-packages\\pandas\\io\\parsers\\readers.py:27\u001b[0m\n\u001b[0;32m     24\u001b[0m \u001b[39mimport\u001b[39;00m \u001b[39mnumpy\u001b[39;00m \u001b[39mas\u001b[39;00m \u001b[39mnp\u001b[39;00m\n\u001b[0;32m     26\u001b[0m \u001b[39mfrom\u001b[39;00m \u001b[39mpandas\u001b[39;00m\u001b[39m.\u001b[39;00m\u001b[39m_libs\u001b[39;00m \u001b[39mimport\u001b[39;00m lib\n\u001b[1;32m---> 27\u001b[0m \u001b[39mfrom\u001b[39;00m \u001b[39mpandas\u001b[39;00m\u001b[39m.\u001b[39;00m\u001b[39m_libs\u001b[39;00m\u001b[39m.\u001b[39;00m\u001b[39mparsers\u001b[39;00m \u001b[39mimport\u001b[39;00m STR_NA_VALUES\n\u001b[0;32m     28\u001b[0m \u001b[39mfrom\u001b[39;00m \u001b[39mpandas\u001b[39;00m\u001b[39m.\u001b[39;00m\u001b[39merrors\u001b[39;00m \u001b[39mimport\u001b[39;00m (\n\u001b[0;32m     29\u001b[0m     AbstractMethodError,\n\u001b[0;32m     30\u001b[0m     ParserWarning,\n\u001b[0;32m     31\u001b[0m )\n\u001b[0;32m     32\u001b[0m \u001b[39mfrom\u001b[39;00m \u001b[39mpandas\u001b[39;00m\u001b[39m.\u001b[39;00m\u001b[39mutil\u001b[39;00m\u001b[39m.\u001b[39;00m\u001b[39m_decorators\u001b[39;00m \u001b[39mimport\u001b[39;00m Appender\n",
      "File \u001b[1;32mparsers.pyx:1417\u001b[0m, in \u001b[0;36minit pandas._libs.parsers\u001b[1;34m()\u001b[0m\n",
      "\u001b[1;31mAttributeError\u001b[0m: partially initialized module 'pandas' has no attribute '_pandas_parser_CAPI' (most likely due to a circular import)"
     ]
    }
   ],
   "source": [
    "import matplotlib.pyplot as plt\n",
    "import numpy as np\n",
    "import pandas as pd\n",
    "\n",
    "#data = pd.read_csv(\"data.txt\", sep = \" \")\n",
    "xdata = data[\"x\"]\n",
    "ydata = data[\"y\"]\n",
    "vdata = data[\"v\"]\n",
    "\n",
    "plt.plot(xdata, ydata)"
   ]
  },
  {
   "cell_type": "markdown",
   "metadata": {},
   "source": []
  },
  {
   "cell_type": "markdown",
   "metadata": {},
   "source": [
    "Forsøk 1\n",
    "t\tx\ty\n",
    "0.000000E0\t−2.877998E−2\t3.004231E−1\n",
    "3.333333E−2\t−2.592902E−2\t3.004122E−1\n",
    "6.666667E−2\t−2.193965E−2\t2.994222E−1\n",
    "1.000000E−1\t−1.659241E−2\t2.981690E−1\n",
    "1.333333E−1\t−1.015937E−2\t2.966819E−1\n",
    "1.666667E−1\t−7.777559E−4\t2.950860E−1\n",
    "2.000000E−1\t8.944495E−3\t2.923794E−1\n",
    "2.333333E−1\t2.149657E−2\t2.904482E−1\n",
    "2.666667E−1\t3.525163E−2\t2.885370E−1\n",
    "3.000000E−1\t4.944740E−2\t2.853503E−1\n",
    "3.333333E−1\t6.600189E−2\t2.824870E−1\n",
    "3.666667E−1\t8.337823E−2\t2.788497E−1\n",
    "4.000000E−1\t1.028213E−1\t2.743230E−1\n",
    "4.333333E−1\t1.226236E−1\t2.692710E−1\n",
    "4.666667E−1\t1.456737E−1\t2.628864E−1\n",
    "5.000000E−1\t1.698880E−1\t2.548888E−1\n",
    "5.333333E−1\t1.960787E−1\t2.444419E−1\n",
    "5.666667E−1\t2.260895E−1\t2.301866E−1\n",
    "6.000000E−1\t2.573040E−1\t2.156575E−1\n",
    "6.333333E−1\t2.923484E−1\t1.988020E−1\n",
    "6.666667E−1\t3.301866E−1\t1.801745E−1\n",
    "7.000000E−1\t3.722620E−1\t1.632243E−1\n",
    "7.333333E−1\t4.184155E−1\t1.474984E−1\n",
    "7.666667E−1\t4.668207E−1\t1.385831E−1\n",
    "8.000000E−1\t5.163711E−1\t1.359267E−1\n",
    "8.333333E−1\t5.658109E−1\t1.391416E−1\n",
    "8.666667E−1\t6.135456E−1\t1.459626E−1\n",
    "9.000000E−1\t6.591091E−1\t1.564711E−1\n",
    "9.333333E−1\t7.022054E−1\t1.672746E−1\n",
    "9.683333E−1\t7.430249E−1\t1.779461E−1\n",
    "1.001667E0\t7.818072E−1\t1.862500E−1\n",
    "1.035000E0\t8.204471E−1\t1.915775E−1\n",
    "1.068333E0\t8.572686E−1\t1.951995E−1\n",
    "1.101667E0\t8.940400E−1\t1.952914E−1\n",
    "1.135000E0\t9.311605E−1\t1.933931E−1\n",
    "1.168333E0\t9.688578E−1\t1.883576E−1\n",
    "1.201667E0\t1.007580E0\t1.806796E−1\n",
    "1.235000E0\t1.047067E0\t1.686391E−1\n",
    "1.268333E0\t1.088481E0\t1.545783E−1\n",
    "1.301667E0\t1.132163E0\t1.384174E−1\n",
    "1.335000E0\t1.178324E0\t1.226000E−1\n",
    "1.368333E0\t1.228462E0\t1.072702E−1\n",
    "1.401667E0\t1.280025E0\t9.572718E−2\n",
    "1.435000E0\t1.332788E0\t9.156598E−2\n",
    "1.468333E0\t1.386047E0\t9.100185E−2\n",
    "1.501667E0\t1.436358E0\t−1.912397E−2"
   ]
  },
  {
   "cell_type": "markdown",
   "metadata": {},
   "source": [
    "Forsøk 2:\n",
    "v\n",
    "1.572641E0\n",
    "\n",
    "Forsøk 3:\n",
    "v\n",
    "1.599621E0\n",
    "\n",
    "Forsøk 4:\n",
    "v\n",
    "1.593976E0\n",
    "\n",
    "Forsøk 5:\n",
    "v\n",
    "1.590014E0\n",
    "\n",
    "Forsøk 6:\n",
    "v\n",
    "1.581743E0\n",
    "\n",
    "Forsøk 7:\n",
    "v\n",
    "1.592939E0\n",
    "\n",
    "Forsøk 8:\n",
    "v\n",
    "1.589702E0\n",
    "\n",
    "Forsøk 9:\n",
    "v\n",
    "1.590301E0\n",
    "\n",
    "Forsøk 10\n",
    "v\n",
    "1.564269E0\n",
    "\n",
    "\n",
    "\n",
    "\n"
   ]
  }
 ],
 "metadata": {
  "kernelspec": {
   "display_name": "Python 3",
   "language": "python",
   "name": "python3"
  },
  "language_info": {
   "codemirror_mode": {
    "name": "ipython",
    "version": 3
   },
   "file_extension": ".py",
   "mimetype": "text/x-python",
   "name": "python",
   "nbconvert_exporter": "python",
   "pygments_lexer": "ipython3",
   "version": "3.11.5"
  },
  "orig_nbformat": 4
 },
 "nbformat": 4,
 "nbformat_minor": 2
}
