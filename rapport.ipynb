{
 "cells": [
  {
   "cell_type": "markdown",
   "metadata": {},
   "source": [
    "# Fysikk Labrapport"
   ]
  },
  {
   "cell_type": "markdown",
   "metadata": {},
   "source": [
    "### 1. Innholdsfortegnelse"
   ]
  },
  {
   "cell_type": "markdown",
   "metadata": {},
   "source": [
    "### 2. Sammendrag\n"
   ]
  },
  {
   "cell_type": "markdown",
   "metadata": {},
   "source": [
    "### 3. Introduksjon\n"
   ]
  },
  {
   "cell_type": "markdown",
   "metadata": {},
   "source": [
    "### 4. Teori\n",
    "#### 4.1 Energibevaring\n",
    "Bevaring av mekanisk energi er et santral prinsipp innenfor fysikken. Forutsatt at det ikke er noen ytre krefter som utfører arbeid på systemet, vil den mekaniske energier forbli konstant (summen av potensiell og kinestisk energi):\n",
    "$$\n",
    "mgy_0 + \\frac{1}{2} mv_0^2 = mgy + \\frac{1}{2}mv^2 \\tag{1}\n",
    "$$\n",
    "Her er $m$ massen til objektet, $g$ gravitasjonsakselerasjonen, $y_0$, $v_0$ og $y, v$ er høyde og fart i henholdsvis start- og slutt-punkt.\n",
    "\n",
    "##### 4.1.1 Energibevaring ved glatt rulling\n",
    "Ved glatt rulling, altså at at kulen ikke sklir langs underlaget, vil mekanisk energi være bevart. Siden kulen ruller, er den totale kinetiske energien til kulen summen av translasjonsenergien $\\frac{1}{2} mv^2$ og rotasjonsenergien $\\frac{1}{2}I \\omega^2$. Treghetsamomentet $I$ til kula er gitt ved $mr^2$, der $m$ er massen, $r$ er avstanden fra massesenteret (CM) til kontaktpunktet med underlaget, og $c$ er en konstant ($2/5$ for en kule). Hvis vi i tillegg til dette bruker at banefarten $\\omega = \\frac{v}{r}$, får vi ved bevaring av mekanisk energi at:\n",
    "$$\n",
    "mgy_0 + \\frac{1}{2}mv_0^2 + \\frac{1}{2}cmv_0^2 = mgy + \\frac{1}{2}mv^2 + \\frac{1}{2}cmv^2 \\tag{2}\n",
    "$$\n",
    "\n",
    "##### 4.1.2 Banefart\n",
    "(2) gjør at vi kan finne en formel for beregning av banefarten til en vilkåerlig høyde $y$. I startpunktet $y_0$ er både kulens fart og rulling 0. Det betyr at den totale mekaninske energien til kula er $mgy_0$. Bevaring av mekaniske ernergi gir da en hastighet \n",
    "$$\n",
    "v(y) = \\sqrt{\\frac{2g(y_0 - y)}{1+c}} \\tag{3}\n",
    "$$\n",
    "med hensyn på høyden $h$ kula befinner seg. Siden vi kjenner høyden som en funksjon av horisontal posisjon $x$, kan vi også uttrykke kulas hastighet med hensyn på x:\n",
    "$$\n",
    "v(x) = \\sqrt{\\frac{2g(y_0 - y(x))}{1+c}} \\tag{4} \n",
    "$$\n",
    "\n",
    "\n",
    "#### 4.2 Newtons 2. Lov \n",
    "La oss nå anvende Newtons 2. Lov normalt på baneformen. Vi velger fortegn slik at normalkraften $N$ virker i positiv retning, og tyngdens komponent $G_y = mgcos(\\theta)$ virker i negativ retning (se Figur 1). Summen av kreftene i y-reting gir da en formel for normalkrafen:\n",
    "$$\n",
    "\\sum{F_y} = ma_\\perp = N - mgcos(\\theta) \\qquad  \\Rightarrow \\qquad  N = m(gcos(\\theta)+a_\\perp) \\tag{5}\n",
    "$$\n",
    "der $a_\\perp = \\frac{v^2}{r}$. Vi kan videre finne et uttrykk for $r$ ved å bruke baneformens krumning i det aktuelle punktet, og kombinere dette med (3) eller (4). Banens krumning $\\kappa$ er inversen til radien: \n",
    "$$\n",
    "\\kappa = \\frac{y''}{[1+(y')^2]^{\\frac{3}{2}}} \\qquad    \\Rightarrow     \\qquad      a_\\perp = \\frac{2g(y_0 - y)}{1+c} \\cdot \\frac{y''}{[1+(y')^2]^{\\frac{3}{2}}} \\tag{6}\n",
    "$$\n",
    "\n",
    "##### 4.2.1 Normalkraften\n",
    "##### 4.2.2 Friksjonskraften\n",
    "\n",
    "\n",
    "#### 4.3 Tidsutvikling "
   ]
  },
  {
   "cell_type": "markdown",
   "metadata": {},
   "source": []
  },
  {
   "cell_type": "markdown",
   "metadata": {},
   "source": [
    "### 5. Metode"
   ]
  },
  {
   "cell_type": "markdown",
   "metadata": {},
   "source": [
    "### 6. Resultater"
   ]
  },
  {
   "cell_type": "markdown",
   "metadata": {},
   "source": [
    "### 7. Diskusjon"
   ]
  },
  {
   "cell_type": "markdown",
   "metadata": {},
   "source": [
    "### 8. Konklusjon"
   ]
  },
  {
   "cell_type": "markdown",
   "metadata": {},
   "source": [
    "### 9. Referanseliste"
   ]
  }
 ],
 "metadata": {
  "kernelspec": {
   "display_name": "Python 3",
   "language": "python",
   "name": "python3"
  },
  "language_info": {
   "codemirror_mode": {
    "name": "ipython",
    "version": 3
   },
   "file_extension": ".py",
   "mimetype": "text/x-python",
   "name": "python",
   "nbconvert_exporter": "python",
   "pygments_lexer": "ipython3",
   "version": "3.10.11"
  },
  "orig_nbformat": 4
 },
 "nbformat": 4,
 "nbformat_minor": 2
}
